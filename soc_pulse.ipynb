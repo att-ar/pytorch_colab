{
 "cells": [
  {
   "cell_type": "code",
   "execution_count": null,
   "id": "3025f892",
   "metadata": {},
   "outputs": [],
   "source": [
    "import pandas as pd\n",
    "import numpy as np\n",
    "\n",
    "from rolling_and_plot import *"
   ]
  },
  {
   "cell_type": "code",
   "execution_count": null,
   "id": "6efd9cb0",
   "metadata": {},
   "outputs": [],
   "source": [
    "data =\"\""
   ]
  },
  {
   "cell_type": "code",
   "execution_count": null,
   "id": "c88ae5aa",
   "metadata": {},
   "outputs": [],
   "source": [
    "def get_sec(time_str):\n",
    "    d, m, s = time_str.split(\":\")\n",
    "    d, h = d.split(\"d\")\n",
    "    d = int(d)\n",
    "    h = int(h)\n",
    "    m = int(m)\n",
    "    s = int(s)\n",
    "    return d*86400 + h*3600 + m*60 +s\n",
    "\n",
    "def pulse_soc_compute(data, dis_capacity, chg_capacity, to_csv_pts = False, to_csv_curve = False):\n",
    "    '''\n",
    "    str, float[, bool, bool] -> pd.DataFrame, pd.DataFrame[, .csv file, .csv file]\n",
    "    Precondition data is a path to a .txt file\n",
    "    \n",
    "    Parameters:\n",
    "    `dis_capacity` float\n",
    "        the capacity of the LFP cell when it is discharging\n",
    "    `chg_capacity` float\n",
    "        the capacity of the LFP cell when it is charging\n",
    "    `to_csv_pts` bool\n",
    "        to send the extracted points to a csv file\n",
    "    `to_csv_curve` bool\n",
    "        to send the estimated points to a csv file\n",
    "    '''\n",
    "    data = pd.read_csv(data, skiprows=[0,1,2], sep=\"\\t\")\n",
    "    \n",
    "    first_idx = data[data[\"MD\"] == \"D\"].iloc[0].name\n",
    "    last_discharge = data[data[\"MD\"]==\"D\"].iloc[-1].name - first_idx\n",
    "    \n",
    "    df = data.loc[first_idx-1:,[\"Test Time\", \"Current\", \"Voltage\", \"MD\"]].copy()\n",
    "    \n",
    "    df.columns = [col.lower() for col in df.columns]\n",
    "\n",
    "    df.loc[df[\"md\"] == \"D\",\"current\"] *= -1\n",
    "    \n",
    "    df.loc[:,\"test time (sec)\"] = [get_sec(i) for i in df[\"test time\"]]\n",
    "    mask = df[\"test time (sec)\"].diff()\n",
    "    mask.iloc[0], mask.iloc[-1] = 1.0, 1.0\n",
    "    df[\"delta t\"] = mask\n",
    "\n",
    "    delta_cap = df[\"current\"] / 3600 * df[\"delta t\"]\n",
    "    \n",
    "    dis_soc = list((dis_capacity + delta_cap.loc[:last_discharge].cumsum()) / dis_capacity * 100)\n",
    "    chg_soc = list((delta_cap.loc[last_discharge + 1:].cumsum()) / chg_capacity * 100)\n",
    "    dis_soc.extend(chg_soc)\n",
    "    \n",
    "    df[\"soc\"] = dis_soc\n",
    "    \n",
    "#     if to_csv_pts:\n",
    "#         name = input(\"Name of output file for SOC-OCV points: \")\n",
    "#         data.to_csv(name)\n",
    "#         print( f\"\\n{name} was created.\\n\" )\n",
    "#     if to_csv_curve:\n",
    "#         name = input(\"Name of output file for SOC-OCV curve: \")\n",
    "#         curve.to_csv(name)\n",
    "#         print( f\"\\n{name} was created.\\n\" )\n",
    "    \n",
    "    return df[[\"test time (sec)\",\"delta t\",\"current\",\"voltage\",\"soc\"]]"
   ]
  },
  {
   "cell_type": "code",
   "execution_count": null,
   "id": "56b12fcd",
   "metadata": {},
   "outputs": [],
   "source": [
    "df = pulse_soc_compute(data, 18.251, 18.257)\n",
    "df.to_csv(\"\",\n",
    "         index = False)"
   ]
  },
  {
   "cell_type": "code",
   "execution_count": null,
   "id": "9f168f71",
   "metadata": {},
   "outputs": [],
   "source": [
    "data_plot(data = [df],\n",
    "          x = [\"test time (sec)\"],\n",
    "          y = [ \"soc\" ],\n",
    "          title = \"SOC vs. Time\",\n",
    "          x_title = \"Time (sec)\",\n",
    "          y_title = \"SOC (%)\",\n",
    "          mode = \"lines\",\n",
    "          color = \"darkorchid\",\n",
    "          name = None,\n",
    "          size = None\n",
    "         )"
   ]
  }
 ],
 "metadata": {
  "kernelspec": {
   "display_name": "Python 3 (ipykernel)",
   "language": "python",
   "name": "python3"
  },
  "language_info": {
   "codemirror_mode": {
    "name": "ipython",
    "version": 3
   },
   "file_extension": ".py",
   "mimetype": "text/x-python",
   "name": "python",
   "nbconvert_exporter": "python",
   "pygments_lexer": "ipython3",
   "version": "3.10.5"
  }
 },
 "nbformat": 4,
 "nbformat_minor": 5
}
