{
 "cells": [
  {
   "cell_type": "code",
   "execution_count": null,
   "id": "95327a6b",
   "metadata": {},
   "outputs": [],
   "source": [
    "import torch\n",
    "from torch import nn\n",
    "from torch.utils.data import DataLoader, Dataset\n",
    "from torchvision.transforms import ToTensor, Lambda\n",
    "from dataclasses import dataclass"
   ]
  },
  {
   "cell_type": "code",
   "execution_count": null,
   "id": "f82e61bc",
   "metadata": {},
   "outputs": [],
   "source": [
    "import path_helper\n",
    "import numpy as np\n",
    "import pandas as pd\n",
    "from battery_plot import *"
   ]
  },
  {
   "cell_type": "code",
   "execution_count": null,
   "id": "b8682404",
   "metadata": {},
   "outputs": [],
   "source": [
    "# Get cpu or gpu device for training.\n",
    "device = torch.device(\"mps\")\n",
    "print(f\"Using {device} device\")"
   ]
  },
  {
   "cell_type": "markdown",
   "id": "855a2f5a",
   "metadata": {},
   "source": [
    "# TOC\n",
    "\n",
    "* [Data Loading](#dload)\n",
    "\n",
    "* [Models](#model)"
   ]
  },
  {
   "cell_type": "code",
   "execution_count": null,
   "id": "a2665c76",
   "metadata": {},
   "outputs": [],
   "source": [
    "@dataclass\n",
    "class G:\n",
    "    split_time = None #for now, might be useless\n",
    "    sequence_length = 5\n",
    "    num_features = 3 # delta_t, current, voltage\n",
    "    window_size = 300\n",
    "    batch_size = 64\n",
    "    epochs = 2"
   ]
  },
  {
   "cell_type": "markdown",
   "id": "3de98f4e",
   "metadata": {},
   "source": [
    "# Data Loader <a id=\"dload\"></a>"
   ]
  },
  {
   "cell_type": "code",
   "execution_count": null,
   "id": "b40018fb",
   "metadata": {},
   "outputs": [],
   "source": [
    "file = pd.read_csv(\"/Users/attar/Desktop/Python/coop/ocv/JMFM_17_SOC_OCV_94plus5_Test_220624_soc.csv\")"
   ]
  },
  {
   "cell_type": "code",
   "execution_count": null,
   "id": "346737b3",
   "metadata": {},
   "outputs": [],
   "source": [
    "data_plot(data = [file],\n",
    "          title=\"OCV v SOC\",\n",
    "          x = [\"test time (sec)\"],\n",
    "          y = [\"soc\"],\n",
    "          markers = \"lines\"\n",
    "         )"
   ]
  },
  {
   "cell_type": "code",
   "execution_count": null,
   "id": "2b5e9ed0",
   "metadata": {},
   "outputs": [],
   "source": [
    "mask = file[\"test time (sec)\"].diff()\n",
    "mask.iloc[0],mask.iloc[-1] = 1.0,1.0\n",
    "file[\"delta t\"] = mask"
   ]
  },
  {
   "cell_type": "code",
   "execution_count": null,
   "id": "fc2dbfe3",
   "metadata": {},
   "outputs": [],
   "source": [
    "train = file[[\"delta t\",\"current\",\"voltage\",\"soc\" ]].loc[:111498]\n",
    "\n",
    "test = file[[\"delta t\",\"current\",\"voltage\",\"soc\" ]].loc[111499:]"
   ]
  },
  {
   "cell_type": "code",
   "execution_count": null,
   "id": "82a10ddb",
   "metadata": {},
   "outputs": [],
   "source": [
    "# np.array_split(train,len(train)//6) not applicable here"
   ]
  },
  {
   "cell_type": "code",
   "execution_count": null,
   "id": "8cacc36a",
   "metadata": {},
   "outputs": [],
   "source": [
    "class BatterySet(Dataset):\n",
    "    def __init__(self, dataframe):\n",
    "        \n",
    "        x, y = self.rolling(dataframe, G.window_size)\n",
    "    \n",
    "        self.logits = torch.from_numpy(x).to(device)\n",
    "        self.labels = torch.from_numpy(y).to(device)\n",
    "        \n",
    "    def __len__(self):\n",
    "        return len(self.labels)\n",
    "    \n",
    "    def __getitem__(self, idx):\n",
    "        return (self.logits[idx], self.labels[idx])\n",
    "    \n",
    "    def rolling(self, df, window_size):\n",
    "        '''implements rolling window sectioning'''\n",
    "\n",
    "        df_x = [window.values\n",
    "                for window\n",
    "                in df[[\"delta t\",\"current\",\"voltage\"]]\n",
    "                    .rolling(window = window_size,\n",
    "                            min_periods=window_size-2,\n",
    "                            method = \"table\"\n",
    "                            )][window_size:]\n",
    "\n",
    "        df_y = [window.values\n",
    "                for window\n",
    "                in df[\"soc\"]\n",
    "                    .rolling(window = window_size,\n",
    "                            min_periods=window_size-2,\n",
    "                            method = \"single\"\n",
    "                            )][window_size:]\n",
    "\n",
    "        return np.array(df_x, dtype=\"float32\"), np.array(df_y, dtype=\"float32\")\n"
   ]
  },
  {
   "cell_type": "code",
   "execution_count": null,
   "id": "eea0306a",
   "metadata": {},
   "outputs": [],
   "source": [
    "train_dataloader = BatterySet(train)\n",
    "test_dataloader = BatterySet(test)"
   ]
  },
  {
   "cell_type": "code",
   "execution_count": null,
   "id": "8bec661c",
   "metadata": {},
   "outputs": [],
   "source": [
    "train_dataloader = DataLoader(train_dataloader, batch_size=64, shuffle=True)\n",
    "test_dataloader = DataLoader(test_dataloader, batch_size=64)"
   ]
  },
  {
   "cell_type": "code",
   "execution_count": null,
   "id": "73f90a17",
   "metadata": {},
   "outputs": [],
   "source": [
    "test_dataloader.dataset?"
   ]
  },
  {
   "cell_type": "code",
   "execution_count": null,
   "id": "d737277d",
   "metadata": {},
   "outputs": [],
   "source": [
    "for X,y in train_dataloader.dataset:\n",
    "    print(f\"Shape of X [N, C, H, W]: {X.shape}\")\n",
    "    print(f\"Shape of y: {y.shape} {y.dtype}\")\n",
    "    break"
   ]
  },
  {
   "cell_type": "code",
   "execution_count": null,
   "id": "3ef3bc72",
   "metadata": {},
   "outputs": [],
   "source": [
    "for batch, (x,y) in enumerate(test_dataloader.dataset):\n",
    "    print(batch,x,y)\n",
    "    break"
   ]
  },
  {
   "cell_type": "markdown",
   "id": "2625e83a",
   "metadata": {},
   "source": [
    "# Creating Models <a id=\"model\"></a>"
   ]
  },
  {
   "cell_type": "code",
   "execution_count": null,
   "id": "dfea77b2",
   "metadata": {},
   "outputs": [],
   "source": [
    "nn.LSTM?"
   ]
  },
  {
   "cell_type": "code",
   "execution_count": null,
   "id": "cdafd97c",
   "metadata": {},
   "outputs": [],
   "source": [
    "nn.BatchNorm1d?"
   ]
  },
  {
   "cell_type": "code",
   "execution_count": null,
   "id": "7cff22a7",
   "metadata": {},
   "outputs": [],
   "source": [
    "# # Get cpu or gpu device for training.\n",
    "# device = torch.device(\"mps\")\n",
    "# print(f\"Using {device} device\")\n",
    "\n",
    "# Define model\n",
    "class LSTMNetwork(nn.Module):\n",
    "    \n",
    "    def __init__(self):\n",
    "        super(LSTMNetwork, self).__init__()\n",
    "        \n",
    "        self.flatten = nn.Flatten()\n",
    "        self.lstm1 = nn.LSTM(G.num_features, G.batch_size, 1, batch_first = True)\n",
    "        self.linear_relu_stack = nn.Sequential(\n",
    "            nn.Linear(G.batch_size, G.batch_size // 4),\n",
    "            nn.ReLU(),\n",
    "            nn.Linear(G.batch_size // 4, 1)\n",
    "            )\n",
    "#         self.batch_norm = nn.BatchNorm1d(64)\n",
    "        \n",
    "#     def l2_normalize(self, x, dim = 1):\n",
    "#         \"apparently weight decay in the optimize functions does l2 regularization\"\n",
    "#         return nn.functional.normalize(x, p = 2.0 , dim = dim)\n",
    "    \n",
    "    def forward(self, x):\n",
    "#         x = self.flatten(x)\n",
    "        x_out, x_states = self.lstm1(x)\n",
    "#         x_out = self.batch_norm(x_out)\n",
    "        logits = self.linear_relu_stack(x_out)\n",
    "        return logits\n",
    "\n",
    "model = LSTMNetwork().to(device)\n",
    "print(model)"
   ]
  },
  {
   "cell_type": "code",
   "execution_count": null,
   "id": "0ccde997",
   "metadata": {},
   "outputs": [],
   "source": [
    "def train_loop(dataloader, model, loss_fn, optimizer):\n",
    "    size = len(dataloader.dataset)\n",
    "\n",
    "    for batch, (x,y) in enumerate(dataloader.dataset):\n",
    "        #forward\n",
    "        predict = model(x)\n",
    "        loss = loss_fn(predict.reshape(y.shape), y)\n",
    "        \n",
    "        #backward\n",
    "        optimizer.zero_grad() #resets the gradient graph, a pytorch shortcoming that is required\n",
    "        loss.backward()\n",
    "        optimizer.step()\n",
    "        scheduler.step()\n",
    "        \n",
    "        if batch % 10 == 0:\n",
    "            loss, current = loss.item(), batch * len(x)\n",
    "            print(f\"loss: {loss:>7f}  [{current:5d}/{size:5d}]\")\n",
    "\n",
    "def test_loop(dataloader, model, loss_fn):\n",
    "    size = len(dataloader.dataset)\n",
    "    num_batches = len(dataloader.dataset)\n",
    "    test_loss, correct = 0,0\n",
    "    \n",
    "    with torch.no_grad(): #doesnt update parameters (we are testing not training)\n",
    "        for x,y in dataloader.dataset:\n",
    "            predict = model(x)\n",
    "            test_loss += loss_fn(predict.reshape(predict.shape[:2]), y).item()\n",
    "            correct+= (pred.argmax(1) == y).type(torch.float).sum().item()\n",
    "            \n",
    "    test_loss /= num_batches\n",
    "    correct /= size\n",
    "    print(f\"Test Error: \\nAccuracy: {100*correct:>0.1f}%, Avg Loss: {test_loss:>8f}\\n\")"
   ]
  },
  {
   "cell_type": "code",
   "execution_count": null,
   "id": "0c58545e",
   "metadata": {},
   "outputs": [],
   "source": [
    "loss_fn = nn.HuberLoss()\n",
    "optimizer = torch.optim.Adam(model.parameters(),\n",
    "                             lr = 0.2,\n",
    "                             weight_decay=1e-5)\n",
    "# scheduler = torch.optim.lr_scheduler.ReduceLROnPlateau(optimizer, \"min\", factor = 0.2, patience = 7, cooldown = 1)\n",
    "scheduler = torch.optim.lr_scheduler.StepLR(optimizer, 3, gamma=0.2, last_epoch=- 1, verbose=False)"
   ]
  },
  {
   "cell_type": "code",
   "execution_count": null,
   "id": "de1886bf",
   "metadata": {},
   "outputs": [],
   "source": [
    "for epoch in range(G.epochs):\n",
    "    print(f\"Epoch {epoch+1}\\n----------------------------------------\")\n",
    "    train_loop(train_dataloader, model, loss_fn, optimizer)\n",
    "    test_loop(test_dataloader, model, loss_fn)\n",
    "print(\"Completed\")"
   ]
  },
  {
   "cell_type": "code",
   "execution_count": null,
   "id": "57f31673",
   "metadata": {},
   "outputs": [],
   "source": []
  }
 ],
 "metadata": {
  "kernelspec": {
   "display_name": "Python 3 (ipykernel)",
   "language": "python",
   "name": "python3"
  },
  "language_info": {
   "codemirror_mode": {
    "name": "ipython",
    "version": 3
   },
   "file_extension": ".py",
   "mimetype": "text/x-python",
   "name": "python",
   "nbconvert_exporter": "python",
   "pygments_lexer": "ipython3",
   "version": "3.10.5"
  }
 },
 "nbformat": 4,
 "nbformat_minor": 5
}
