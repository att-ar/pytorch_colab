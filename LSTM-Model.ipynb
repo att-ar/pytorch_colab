{
 "cells": [
  {
   "cell_type": "code",
   "execution_count": null,
   "id": "c9tSoZ1FlqfT",
   "metadata": {
    "id": "c9tSoZ1FlqfT"
   },
   "outputs": [],
   "source": [
    "from google.colab import drive\n",
    "drive.mount('/content/drive', force_remount=True)"
   ]
  },
  {
   "cell_type": "code",
   "execution_count": null,
   "id": "kO6jZ26ahKAo",
   "metadata": {
    "id": "kO6jZ26ahKAo"
   },
   "outputs": [],
   "source": [
    "!cp /content/drive/MyDrive/pytorch_colab/rolling_and_plot.py ."
   ]
  },
  {
   "cell_type": "code",
   "execution_count": null,
   "id": "EJwI7YMsKLQN",
   "metadata": {
    "id": "EJwI7YMsKLQN"
   },
   "outputs": [],
   "source": [
    "# import os\n",
    "# assert os.environ['COLAB_TPU_ADDR'], 'Make sure to select TPU from Edit > Notebook settings > Hardware accelerator'\n",
    "# # !pip install cloud-tpu-client==0.10 torch==1.11.0 https://storage.googleapis.com/tpu-pytorch/wheels/colab/torch_xla-1.11-cp37-cp37m-linux_x86_64.whl"
   ]
  },
  {
   "cell_type": "code",
   "execution_count": null,
   "id": "95327a6b",
   "metadata": {
    "id": "95327a6b"
   },
   "outputs": [],
   "source": [
    "import torch\n",
    "from torch import nn\n",
    "from torch.utils.data import DataLoader, Dataset\n",
    "from torchvision.transforms import ToTensor, Lambda\n",
    "\n",
    "# import torch_xla\n",
    "# import torch_xla.core.xla_model as xm\n",
    "\n",
    "from sklearn.preprocessing import MaxAbsScaler, MinMaxScaler\n",
    "from sklearn.model_selection import train_test_split\n",
    "\n",
    "from dataclasses import dataclass"
   ]
  },
  {
   "cell_type": "code",
   "execution_count": null,
   "id": "f82e61bc",
   "metadata": {
    "id": "f82e61bc"
   },
   "outputs": [],
   "source": [
    "import numpy as np\n",
    "import pandas as pd\n",
    "from rolling_and_plot import *\n",
    "\n",
    "%reload_ext autoreload\n",
    "%autoreload 2"
   ]
  },
  {
   "cell_type": "code",
   "execution_count": null,
   "id": "b8682404",
   "metadata": {
    "id": "b8682404"
   },
   "outputs": [],
   "source": [
    "# Get cpu or gpu device for training.\n",
    "# device = xm.xla_device()\n",
    "device = torch.device(\"mps\")\n",
    "print(f\"Using {device} device\")"
   ]
  },
  {
   "cell_type": "markdown",
   "id": "855a2f5a",
   "metadata": {
    "id": "855a2f5a"
   },
   "source": [
    "# TOC\n",
    "\n",
    "* [Preprocessing](#pre)\n",
    "\n",
    "* [Data Loading](#dload)\n",
    "\n",
    "* [Models](#model)"
   ]
  },
  {
   "cell_type": "markdown",
   "id": "8546a708",
   "metadata": {
    "id": "8546a708"
   },
   "source": [
    "<a id=\"pre\"></a>\n",
    "# PreProcessing "
   ]
  },
  {
   "cell_type": "markdown",
   "id": "3NXDQtonXeB2",
   "metadata": {
    "id": "3NXDQtonXeB2"
   },
   "source": [
    "## <a id=\"g\">G class</a>"
   ]
  },
  {
   "cell_type": "code",
   "execution_count": null,
   "id": "a2665c76",
   "metadata": {
    "id": "a2665c76"
   },
   "outputs": [],
   "source": [
    "@dataclass\n",
    "class G:\n",
    "#     split_time = None #for now, might be useless\n",
    "    # sequence_length = 5\n",
    "    num_features = 3 # delta_t, current, voltage, and soc at t-1\n",
    "    window_size = 256\n",
    "    batch_size = 64\n",
    "    epochs = 10"
   ]
  },
  {
   "cell_type": "code",
   "execution_count": null,
   "id": "b40018fb",
   "metadata": {
    "id": "b40018fb"
   },
   "outputs": [],
   "source": [
    "# from google.colab import files\n",
    "file = pd.read_csv(\"/content/\")"
   ]
  },
  {
   "cell_type": "code",
   "execution_count": null,
   "id": "346737b3",
   "metadata": {
    "id": "346737b3"
   },
   "outputs": [],
   "source": [
    "data_plot(data = [file],\n",
    "          title=\"OCV v SOC\",\n",
    "          x = [\"test time (sec)\"],\n",
    "          y = [\"soc\"],\n",
    "          markers = \"lines\",\n",
    "          color = \"darkorchid\",\n",
    "          x_title = \"Test Time (sec)\",\n",
    "          y_title = \"SOC\"\n",
    "         )"
   ]
  },
  {
   "cell_type": "code",
   "execution_count": null,
   "id": "13977196",
   "metadata": {
    "id": "13977196"
   },
   "outputs": [],
   "source": [
    "file = normalize(file.loc[:,[\"current\",\"voltage\",\"soc\"]].iloc[::15])\n",
    "#uses sklearn.preprocessing"
   ]
  },
  {
   "cell_type": "code",
   "execution_count": null,
   "id": "c5652432",
   "metadata": {
    "id": "c5652432"
   },
   "outputs": [],
   "source": [
    "x_train, x_test, y_train, y_test = rolling_split(file, G.window_size)\n",
    "x_train.shape, x_test.shape, y_train.shape, y_test.shape\n",
    "#uses sklearn.model_selection"
   ]
  },
  {
   "cell_type": "code",
   "execution_count": null,
   "id": "82a10ddb",
   "metadata": {
    "id": "82a10ddb"
   },
   "outputs": [],
   "source": [
    "# np.array_split(train,len(train)//6) not applicable here"
   ]
  },
  {
   "cell_type": "markdown",
   "id": "3de98f4e",
   "metadata": {
    "id": "3de98f4e"
   },
   "source": [
    "# Data Loader <a id=\"dload\"></a>"
   ]
  },
  {
   "cell_type": "code",
   "execution_count": null,
   "id": "8cacc36a",
   "metadata": {
    "id": "8cacc36a"
   },
   "outputs": [],
   "source": [
    "class BatterySet(Dataset):\n",
    "    def __init__(self, x: np.ndarray, y: np.ndarray):\n",
    "    \n",
    "        self.logits = torch.from_numpy(x.squeeze()).to(device)\n",
    "        self.labels = torch.from_numpy(y).to(device)\n",
    "        \n",
    "    def __len__(self):\n",
    "        return len(self.labels)\n",
    "    \n",
    "    def __getitem__(self, idx):\n",
    "        return (self.logits[idx], self.labels[idx])"
   ]
  },
  {
   "cell_type": "code",
   "execution_count": null,
   "id": "eea0306a",
   "metadata": {
    "id": "eea0306a"
   },
   "outputs": [],
   "source": [
    "train_dataloader = BatterySet(x_train, y_train)\n",
    "test_dataloader = BatterySet(x_test, y_test)"
   ]
  },
  {
   "cell_type": "code",
   "execution_count": null,
   "id": "8bec661c",
   "metadata": {
    "id": "8bec661c"
   },
   "outputs": [],
   "source": [
    "train_dataloader = DataLoader(train_dataloader, batch_size=G.batch_size, shuffle=True)\n",
    "test_dataloader = DataLoader(test_dataloader, batch_size=G.batch_size, shuffle=False)"
   ]
  },
  {
   "cell_type": "code",
   "execution_count": null,
   "id": "d737277d",
   "metadata": {
    "id": "d737277d"
   },
   "outputs": [],
   "source": [
    "for X,y in train_dataloader.dataset:\n",
    "    print(f\"Shape of X [window, features]: {X.shape}\")\n",
    "    print(f\"Shape of y: {y.shape} {y.dtype}\")\n",
    "    break"
   ]
  },
  {
   "cell_type": "code",
   "execution_count": null,
   "id": "3ef3bc72",
   "metadata": {
    "id": "3ef3bc72",
    "scrolled": false
   },
   "outputs": [],
   "source": [
    "for batch, (x,y) in enumerate(test_dataloader.dataset):\n",
    "    print(batch,x[-100:],y)\n",
    "    break"
   ]
  },
  {
   "cell_type": "markdown",
   "id": "2625e83a",
   "metadata": {
    "id": "2625e83a"
   },
   "source": [
    "# Creating Models <a id=\"model\"></a>\n",
    "\n",
    "Go to [G class](#g)"
   ]
  },
  {
   "cell_type": "code",
   "execution_count": null,
   "id": "7cff22a7",
   "metadata": {
    "id": "7cff22a7"
   },
   "outputs": [],
   "source": [
    "# # Get cpu or gpu device for training.\n",
    "# device = torch.device(\"mps\")\n",
    "# print(f\"Using {device} device\")\n",
    "\n",
    "# Define model\n",
    "class LSTMNetwork(nn.Module):\n",
    "    \n",
    "    def __init__(self):\n",
    "        super(LSTMNetwork, self).__init__()\n",
    "\n",
    "        self.batch_norm1 = nn.BatchNorm1d(G.batch_size, momentum = 0.15)\n",
    "#         self.batch_norm2 = nn.BatchNorm1d(1, momentum = 0.1)\n",
    "\n",
    "#         self.relu = nn.ReLU() #will try once I implement the 0-1 normalization\n",
    "\n",
    "\n",
    "        self.lstm = nn.LSTM(G.num_features, G.batch_size, 3, batch_first = True, dropout = 0.1)\n",
    "        for name, param in self.lstm.named_parameters():\n",
    "            if 'bias' in name:\n",
    "                nn.init.uniform_(param, a=0.001, b=0.01)\n",
    "            elif 'weight_ih' in name:\n",
    "                nn.init.kaiming_normal_(param, nonlinearity = \"relu\")\n",
    "            elif 'weight_hh' in name:\n",
    "                nn.init.orthogonal_(param)\n",
    "\n",
    "        # self.linear_relu_stack = nn.Sequential(\n",
    "        #     nn.Linear(G.batch_size, G.batch_size // 4),\n",
    "        #     nn.ReLU(),\n",
    "        #     nn.Linear(G.batch_size // 4, 1)\n",
    "        #     )\n",
    "        # for name, param in self.linear_relu_stack.named_parameters():\n",
    "        #     if 'bias' in name:\n",
    "        #         nn.init.uniform_(param, a=0.0001, b=0.999)\n",
    "        #     elif 'weight' in name:\n",
    "        #         nn.init.kaiming_normal_(param, nonlinearity = \"relu\")\n",
    "\n",
    "        self.linear1 = nn.Linear(G.batch_size, 1)\n",
    "        for name, param in self.linear1.named_parameters():\n",
    "            if 'bias' in name:\n",
    "                nn.init.uniform_(param, a=0.0001, b=0.001)\n",
    "            elif 'weight' in name:\n",
    "                nn.init.kaiming_normal_(param, nonlinearity = \"relu\")\n",
    "\n",
    "#     def l2_normalize(self, x, dim = 1):\n",
    "#         \"apparently weight decay in the optimize functions does l2 regularization\"\n",
    "#         return nn.functional.normalize(x, p = 2.0 , dim = dim)\n",
    "    \n",
    "    def forward(self, x):\n",
    "\n",
    "        x_out, (h_n, c_n)  = self.lstm(x)\n",
    "        for i in [x_out, h_n, c_n]:\n",
    "            i = i.squeeze() # removes any extra one-sized dimensions created\n",
    "            i = self.batch_norm1(i)\n",
    "        out = self.linear1(h_n[-1]) # sends the final layer's hidden state values to the Dense Layer\n",
    "\n",
    "        return out\n",
    "\n",
    "model = LSTMNetwork().to(device)\n",
    "print(model)"
   ]
  },
  {
   "cell_type": "code",
   "execution_count": null,
   "id": "0ccde997",
   "metadata": {
    "id": "0ccde997"
   },
   "outputs": [],
   "source": [
    "def train_loop(dataloader, model, loss_fn, optimizer):\n",
    "    size = len(dataloader.dataset)\n",
    "\n",
    "    for batch, (x,y) in enumerate(dataloader.dataset):\n",
    "        optimizer.zero_grad() #resets the gradient graph, a pytorch shortcoming that is required\n",
    "        \n",
    "        #forward\n",
    "        predict = model(x)\n",
    "        loss = loss_fn(input = predict.log(), target = y)\n",
    "        print(loss)\n",
    "        #backward\n",
    "        grad_params = torch.autograd.grad(outputs = loss,\n",
    "                                         inputs = model.parameters(),\n",
    "                                         create_graph = True)\n",
    "        #L2 regularization\n",
    "        grad_norm = 0\n",
    "        for grad in grad_params:\n",
    "            grad_norm += grad.pow(2).sum()\n",
    "        grad_norm = grad_norm.sqrt()\n",
    "        loss += grad_norm\n",
    "        \n",
    "        loss.backward()\n",
    "        optimizer.step()\n",
    "\n",
    "        if loss.isnan():\n",
    "            print(\"loss was NaN\")\n",
    "            break\n",
    "\n",
    "        if batch % 500 == 0:\n",
    "            loss, current = loss.item(), batch\n",
    "            print(f\"loss: {loss:>7f}  [{current:5d}/{size:5d}]\")\n",
    "    scheduler.step() # reduces the learning rate by a factor gamma every specific number of epochs\n",
    "\n",
    "def test_loop(dataloader, model, loss_fn, prev_loss:list):\n",
    "    size = len(dataloader.dataset)\n",
    "    num_batches = size // G.batch_size\n",
    "    test_loss, perc_error = 0.0, 0.0\n",
    "    counter = 0\n",
    "    with torch.no_grad(): #doesnt update parameters (we are testing not training)\n",
    "        for x,y in dataloader.dataset:\n",
    "            predict = model(x).reshape(y.shape)\n",
    "            test_loss += loss_fn(predict, y).item()\n",
    "            perc_error += torch.mean(torch.abs(predict - y) / y * 100, 0)\n",
    "            #### will have to change the way correct is computed!!\n",
    "           \n",
    "            counter += 1\n",
    "            if counter % 2000 == 0:\n",
    "                print(f\"{counter} / {size} tested\")\n",
    "            \n",
    "            \n",
    "    test_loss /= num_batches\n",
    "    prev_loss.append(test_loss)\n",
    "    perc_error /= size\n",
    "    print(f\"Test Error: \\nAverage Accuracy: {100 - perc_error}%, Avg Loss: {test_loss:>8f}\\n\")\n",
    "    return perc_error, test_loss"
   ]
  },
  {
   "cell_type": "markdown",
   "id": "fucXrOBzq2Y4",
   "metadata": {
    "id": "fucXrOBzq2Y4"
   },
   "source": [
    "## Log Cosh Loss Function"
   ]
  },
  {
   "cell_type": "code",
   "execution_count": null,
   "id": "qBY8ibwil3j5",
   "metadata": {
    "id": "qBY8ibwil3j5"
   },
   "outputs": [],
   "source": [
    "def log_cosh_loss(y_pred: torch.tensor, y_ground: torch.tensor) -> torch.tensor:\n",
    "    x = y_pred - y_ground\n",
    "    return x + torch.nn.functional.softplus(-2. * x) - np.log(2.0)\n",
    "\n",
    "class LogCoshLoss(torch.nn.Module):\n",
    "    def __init__(self):\n",
    "        super().__init__()\n",
    "\n",
    "    def forward(self,\n",
    "                y_pred: torch.Tensor,\n",
    "                y_true: torch.Tensor) -> torch.Tensor:\n",
    "        return log_cosh_loss(y_pred, y_true)"
   ]
  },
  {
   "cell_type": "markdown",
   "id": "I0LawDbNo2ht",
   "metadata": {
    "id": "I0LawDbNo2ht"
   },
   "source": [
    "The LogCoshLoss is the Loss function used by Hannan et al. in their article in the Journal *Nature*: [Deep learning approach towards accurate state of charge estimation for lithium-ion batteries using self-supervised transformer model](https://www.nature.com/articles/s41598-021-98915-8)\n",
    "\n",
    "However they used a Transformer Network which I am doing as well in another project implemented in Tensorflow."
   ]
  },
  {
   "cell_type": "code",
   "execution_count": null,
   "id": "0c58545e",
   "metadata": {
    "id": "0c58545e"
   },
   "outputs": [],
   "source": [
    "# loss_fn = nn.SmoothL1Loss(reduction = \"none\") #same as HuberLoss but works on my M1 Mac (I think)\n",
    "# loss_fn = nn.MSELoss()\n",
    "# loss_fn = LogCoshLoss() #does not work well in this setup\n",
    "loss_fn = nn.KLDivLoss(reduction=\"none\")\n",
    "optimizer = torch.optim.Adam(model.parameters(),\n",
    "                             lr = 0.1,\n",
    "                             weight_decay=1e-5,\n",
    "                            )\n",
    "# scheduler = torch.optim.lr_scheduler.ReduceLROnPlateau(optimizer, \"min\", factor = 0.15, patience = 0, cooldown = 0)\n",
    "scheduler = torch.optim.lr_scheduler.StepLR(optimizer, 1, gamma=0.75, last_epoch=-1, verbose=True)"
   ]
  },
  {
   "cell_type": "markdown",
   "id": "MR-ZR2DSq8_B",
   "metadata": {
    "id": "MR-ZR2DSq8_B"
   },
   "source": [
    "# Training"
   ]
  },
  {
   "cell_type": "code",
   "execution_count": null,
   "id": "de1886bf",
   "metadata": {
    "id": "de1886bf"
   },
   "outputs": [],
   "source": [
    "prev_loss = []\n",
    "for epoch in range(G.epochs):\n",
    "    print(f\"Epoch {epoch+1}/{G.epochs}\\n----------------------------------------\")\n",
    "    train_loop(train_dataloader, model, loss_fn, optimizer)\n",
    "    test_loop(test_dataloader, model, loss_fn, prev_loss)\n",
    "    if len(prev_loss) > 1 and prev_loss[-1] == prev_loss[-2]:\n",
    "        print(\"Test ended early because predictions are not changing\")\n",
    "        break\n",
    "print(\"Completed\")"
   ]
  },
  {
   "cell_type": "code",
   "execution_count": null,
   "id": "hZsMkW3QyOJU",
   "metadata": {
    "id": "hZsMkW3QyOJU"
   },
   "outputs": [],
   "source": [
    "torch.save(model.state_dict(), \"drive/MyDrive/pytorch_colab/model_state_dict.pth\")\n",
    "torch.save(optimizer.state_dict(), \"drive/MyDrive/pytorch_colab/optimizer_state_dict.pth\")"
   ]
  },
  {
   "cell_type": "code",
   "execution_count": null,
   "id": "mKz0AtfnffHc",
   "metadata": {
    "id": "mKz0AtfnffHc"
   },
   "outputs": [],
   "source": [
    "with torch.no_grad():\n",
    "    predict_1 = model(test_dataloader.dataset.logits[1500])\n",
    "    print(predict_1, test_dataloader.dataset.labels[1500])\n",
    "\n",
    "if predict_1.isnan():\n",
    "    print(\"loss was NaN\")"
   ]
  }
 ],
 "metadata": {
  "accelerator": "GPU",
  "colab": {
   "name": "LSTM-Model.ipynb",
   "provenance": []
  },
  "gpuClass": "standard",
  "kernelspec": {
   "display_name": "Python 3 (ipykernel)",
   "language": "python",
   "name": "python3"
  },
  "language_info": {
   "codemirror_mode": {
    "name": "ipython",
    "version": 3
   },
   "file_extension": ".py",
   "mimetype": "text/x-python",
   "name": "python",
   "nbconvert_exporter": "python",
   "pygments_lexer": "ipython3",
   "version": "3.10.5"
  }
 },
 "nbformat": 4,
 "nbformat_minor": 5
}
