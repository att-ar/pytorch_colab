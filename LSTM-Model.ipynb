{
 "cells": [
  {
   "cell_type": "code",
   "execution_count": null,
   "id": "c9tSoZ1FlqfT",
   "metadata": {
    "id": "c9tSoZ1FlqfT"
   },
   "outputs": [],
   "source": [
    "from google.colab import drive\n",
    "drive.mount('/content/drive')"
   ]
  },
  {
   "cell_type": "code",
   "execution_count": null,
   "id": "95327a6b",
   "metadata": {
    "id": "95327a6b"
   },
   "outputs": [],
   "source": [
    "import torch\n",
    "from torch import nn\n",
    "from torch.utils.data import DataLoader, Dataset\n",
    "from torchvision.transforms import ToTensor, Lambda\n",
    "from dataclasses import dataclass"
   ]
  },
  {
   "cell_type": "code",
   "execution_count": null,
   "id": "f82e61bc",
   "metadata": {
    "id": "f82e61bc"
   },
   "outputs": [],
   "source": [
    "import numpy as np\n",
    "import pandas as pd\n",
    "from rolling_and_plot import *\n",
    "\n",
    "# %reload_ext autoreload\n",
    "# %autoreload 2R"
   ]
  },
  {
   "cell_type": "code",
   "execution_count": null,
   "id": "b8682404",
   "metadata": {
    "id": "b8682404"
   },
   "outputs": [],
   "source": [
    "# Get cpu or gpu device for training.\n",
    "device = torch.device(\"cuda\") #\"mps\" for M1 macs\n",
    "print(f\"Using {device} device\")"
   ]
  },
  {
   "cell_type": "markdown",
   "id": "855a2f5a",
   "metadata": {
    "id": "855a2f5a"
   },
   "source": [
    "# TOC\n",
    "\n",
    "* [Data Loading](#dload)\n",
    "\n",
    "* [Models](#model)"
   ]
  },
  {
   "cell_type": "code",
   "execution_count": null,
   "id": "a2665c76",
   "metadata": {
    "id": "a2665c76"
   },
   "outputs": [],
   "source": [
    "@dataclass\n",
    "class G:\n",
    "#     split_time = None #for now, might be useless\n",
    "    # sequence_length = 5\n",
    "    num_features = 4 # delta_t, current, voltage, and soc at t-1\n",
    "    window_size = 600\n",
    "    batch_size = 16\n",
    "    epochs = 5"
   ]
  },
  {
   "cell_type": "markdown",
   "id": "3de98f4e",
   "metadata": {
    "id": "3de98f4e"
   },
   "source": [
    "# Data Loader <a id=\"dload\"></a>"
   ]
  },
  {
   "cell_type": "code",
   "execution_count": null,
   "id": "b40018fb",
   "metadata": {
    "id": "b40018fb"
   },
   "outputs": [],
   "source": [
    "# from google.colab import files\n",
    "file = pd.read_csv(\"/content/JMFM_17_SOC_OCV_94plus5_Test_220624_soc.csv\")"
   ]
  },
  {
   "cell_type": "code",
   "execution_count": null,
   "id": "346737b3",
   "metadata": {
    "id": "346737b3"
   },
   "outputs": [],
   "source": [
    "data_plot(data = [file],\n",
    "          title=\"OCV v SOC\",\n",
    "          x = [\"test time (sec)\"],\n",
    "          y = [\"soc\"],\n",
    "          markers = \"lines\"\n",
    "         )"
   ]
  },
  {
   "cell_type": "code",
   "execution_count": null,
   "id": "fc2dbfe3",
   "metadata": {
    "id": "fc2dbfe3"
   },
   "outputs": [],
   "source": [
    "train = file[[\"delta t\",\"current\",\"voltage\",\"soc\" ]].loc[:107898]\n",
    "\n",
    "test = file[[\"delta t\",\"current\",\"voltage\",\"soc\" ]].loc[107899:]"
   ]
  },
  {
   "cell_type": "code",
   "execution_count": null,
   "id": "82a10ddb",
   "metadata": {
    "id": "82a10ddb"
   },
   "outputs": [],
   "source": [
    "# np.array_split(train,len(train)//6) not applicable here"
   ]
  },
  {
   "cell_type": "code",
   "execution_count": null,
   "id": "c5652432",
   "metadata": {},
   "outputs": [],
   "source": [
    "train = rolling(train, G.window_size)\n",
    "test = rolling(test, G.window_size)"
   ]
  },
  {
   "cell_type": "code",
   "execution_count": null,
   "id": "8cacc36a",
   "metadata": {
    "id": "8cacc36a"
   },
   "outputs": [],
   "source": [
    "class BatterySet(Dataset):\n",
    "    def __init__(self, dataframe):\n",
    "            \n",
    "        x, y = dataframe\n",
    "    \n",
    "        self.logits = torch.from_numpy(x).to(device)\n",
    "        self.labels = torch.from_numpy(y).to(device)\n",
    "        \n",
    "    def __len__(self):\n",
    "        return len(self.labels)\n",
    "    \n",
    "    def __getitem__(self, idx):\n",
    "        return (self.logits[idx], self.labels[idx])"
   ]
  },
  {
   "cell_type": "code",
   "execution_count": null,
   "id": "eea0306a",
   "metadata": {
    "id": "eea0306a"
   },
   "outputs": [],
   "source": [
    "train_dataloader = BatterySet(train)\n",
    "test_dataloader = BatterySet(test)"
   ]
  },
  {
   "cell_type": "code",
   "execution_count": null,
   "id": "8bec661c",
   "metadata": {
    "id": "8bec661c"
   },
   "outputs": [],
   "source": [
    "train_dataloader = DataLoader(train_dataloader, batch_size=64, shuffle=True)\n",
    "test_dataloader = DataLoader(test_dataloader, batch_size=64)"
   ]
  },
  {
   "cell_type": "code",
   "execution_count": null,
   "id": "fzKvOCDavA1n",
   "metadata": {
    "id": "fzKvOCDavA1n"
   },
   "outputs": [],
   "source": [
    "train_dataloader.dataset.logits[0]"
   ]
  },
  {
   "cell_type": "code",
   "execution_count": null,
   "id": "noTwva7LsioQ",
   "metadata": {
    "id": "noTwva7LsioQ"
   },
   "outputs": [],
   "source": [
    "train_dataloader.dataset[3600][0]"
   ]
  },
  {
   "cell_type": "code",
   "execution_count": null,
   "id": "d737277d",
   "metadata": {
    "id": "d737277d"
   },
   "outputs": [],
   "source": [
    "for X,y in train_dataloader.dataset:\n",
    "    print(f\"Shape of X [window, features]: {X.shape}\")\n",
    "    print(f\"Shape of y: {y.shape} {y.dtype}\")\n",
    "    break"
   ]
  },
  {
   "cell_type": "code",
   "execution_count": null,
   "id": "3ef3bc72",
   "metadata": {
    "id": "3ef3bc72"
   },
   "outputs": [],
   "source": [
    "for batch, (x,y) in enumerate(test_dataloader.dataset):\n",
    "    print(batch,x,y)\n",
    "    break"
   ]
  },
  {
   "cell_type": "markdown",
   "id": "2625e83a",
   "metadata": {
    "id": "2625e83a"
   },
   "source": [
    "# Creating Models <a id=\"model\"></a>"
   ]
  },
  {
   "cell_type": "code",
   "execution_count": null,
   "id": "7cff22a7",
   "metadata": {
    "id": "7cff22a7"
   },
   "outputs": [],
   "source": [
    "# # Get cpu or gpu device for training.\n",
    "# device = torch.device(\"mps\")\n",
    "# print(f\"Using {device} device\")\n",
    "\n",
    "# Define model\n",
    "class LSTMNetwork(nn.Module):\n",
    "    \n",
    "    def __init__(self):\n",
    "        super(LSTMNetwork, self).__init__()\n",
    "        \n",
    "        self.flatten = nn.Flatten()\n",
    "        self.lstm1 = nn.LSTM(G.num_features, G.batch_size, 3, batch_first = True)\n",
    "        self.linear_relu_stack = nn.Sequential(\n",
    "            nn.Linear(G.batch_size, G.batch_size // 4),\n",
    "            nn.ReLU(),\n",
    "            nn.Linear(G.batch_size // 4, 1)\n",
    "            )\n",
    "        self.batch_norm = nn.BatchNorm1d(16)\n",
    "        \n",
    "#     def l2_normalize(self, x, dim = 1):\n",
    "#         \"apparently weight decay in the optimize functions does l2 regularization\"\n",
    "#         return nn.functional.normalize(x, p = 2.0 , dim = dim)\n",
    "    \n",
    "    def forward(self, x):\n",
    "#         x = self.flatten(x)\n",
    "        x_out, x_states = self.lstm1(x)\n",
    "        x_states = self.batch_norm(x_states[0])\n",
    "        logits = self.linear_relu_stack(x_out)\n",
    "        return logits\n",
    "\n",
    "model = LSTMNetwork().to(device)\n",
    "print(model)"
   ]
  },
  {
   "cell_type": "code",
   "execution_count": null,
   "id": "0ccde997",
   "metadata": {
    "id": "0ccde997"
   },
   "outputs": [],
   "source": [
    "def train_loop(dataloader, model, loss_fn, optimizer):\n",
    "    size = len(dataloader.dataset)\n",
    "\n",
    "    for batch, (x,y) in enumerate(dataloader.dataset):\n",
    "        #forward\n",
    "        predict = model(x)\n",
    "        loss = loss_fn(predict.reshape(y.shape), y)\n",
    "        \n",
    "        #backward\n",
    "        optimizer.zero_grad() #resets the gradient graph, a pytorch shortcoming that is required\n",
    "        loss.backward()\n",
    "        optimizer.step()\n",
    "        scheduler.step()\n",
    "        \n",
    "        if batch % 2000 == 0:\n",
    "            loss, current = loss.item(), batch\n",
    "            print(f\"loss: {loss:>7f}  [{current:5d}/{size:5d}]\")\n",
    "\n",
    "def test_loop(dataloader, model, loss_fn):\n",
    "    size = len(dataloader.dataset)\n",
    "    num_batches = size // G.batch_size\n",
    "    test_loss, correct = 0,0\n",
    "    counter = 0\n",
    "    with torch.no_grad(): #doesnt update parameters (we are testing not training)\n",
    "        for x,y in dataloader.dataset:\n",
    "            predict = model(x).reshape(y.shape)\n",
    "            test_loss += loss_fn(predict, y).item()\n",
    "            correct+= (predict == y).type(torch.float).sum().item()\n",
    "            #### will have to change the way correct is computed!!\n",
    "           \n",
    "            counter += 1\n",
    "            if counter % 500 == 0:\n",
    "                print(f\"{counter/14302} done\")\n",
    "            \n",
    "            \n",
    "    test_loss /= num_batches\n",
    "    correct /= size\n",
    "    print(f\"Test Error: \\nAccuracy: {100*correct:>0.1f}%, Avg Loss: {test_loss:>8f}\\n\")"
   ]
  },
  {
   "cell_type": "code",
   "execution_count": null,
   "id": "0c58545e",
   "metadata": {
    "id": "0c58545e"
   },
   "outputs": [],
   "source": [
    "loss_fn = nn.SmoothL1Loss()\n",
    "optimizer = torch.optim.Adam(model.parameters(),\n",
    "                             lr = 0.1,\n",
    "                             weight_decay=1e-5,)\n",
    "# scheduler = torch.optim.lr_scheduler.ReduceLROnPlateau(optimizer, \"min\", factor = 0.2, patience = 7, cooldown = 1)\n",
    "scheduler = torch.optim.lr_scheduler.StepLR(optimizer, 9, gamma=0.5, verbose=False)"
   ]
  },
  {
   "cell_type": "code",
   "execution_count": null,
   "id": "t19EhrbXD-61",
   "metadata": {
    "id": "t19EhrbXD-61"
   },
   "outputs": [],
   "source": [
    "test_loop(test_dataloader, model, loss_fn)"
   ]
  },
  {
   "cell_type": "code",
   "execution_count": null,
   "id": "de1886bf",
   "metadata": {
    "id": "de1886bf"
   },
   "outputs": [],
   "source": [
    "for epoch in range(G.epochs):\n",
    "    print(f\"Epoch {epoch+1}\\n----------------------------------------\")\n",
    "    train_loop(train_dataloader, model, loss_fn, optimizer)\n",
    "    test_loop(test_dataloader, model, loss_fn)\n",
    "print(\"Completed\")"
   ]
  }
 ],
 "metadata": {
  "accelerator": "GPU",
  "colab": {
   "name": "LSTM-Model.ipynb",
   "provenance": []
  },
  "gpuClass": "standard",
  "kernelspec": {
   "display_name": "Python 3 (ipykernel)",
   "language": "python",
   "name": "python3"
  },
  "language_info": {
   "codemirror_mode": {
    "name": "ipython",
    "version": 3
   },
   "file_extension": ".py",
   "mimetype": "text/x-python",
   "name": "python",
   "nbconvert_exporter": "python",
   "pygments_lexer": "ipython3",
   "version": "3.10.5"
  }
 },
 "nbformat": 4,
 "nbformat_minor": 5
}
