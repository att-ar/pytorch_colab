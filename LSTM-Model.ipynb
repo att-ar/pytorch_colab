{
  "cells": [
    {
      "cell_type": "code",
      "execution_count": null,
      "id": "c9tSoZ1FlqfT",
      "metadata": {
        "id": "c9tSoZ1FlqfT"
      },
      "outputs": [],
      "source": [
        "from google.colab import drive\n",
        "drive.mount('/content/drive')"
      ]
    },
    {
      "cell_type": "code",
      "execution_count": null,
      "id": "kO6jZ26ahKAo",
      "metadata": {
        "id": "kO6jZ26ahKAo"
      },
      "outputs": [],
      "source": [
        "!cp /content/drive/MyDrive/pytorch_colab/rolling_and_plot.py .\n",
        "!cp /content/drive/MyDrive/pytorch_colab/220617_soc.csv ."
      ]
    },
    {
      "cell_type": "code",
      "execution_count": null,
      "id": "EJwI7YMsKLQN",
      "metadata": {
        "id": "EJwI7YMsKLQN"
      },
      "outputs": [],
      "source": [
        "# import os\n",
        "# assert os.environ['COLAB_TPU_ADDR'], 'Make sure to select TPU from Edit > Notebook settings > Hardware accelerator'\n",
        "# # !pip install cloud-tpu-client==0.10 torch==1.11.0 https://storage.googleapis.com/tpu-pytorch/wheels/colab/torch_xla-1.11-cp37-cp37m-linux_x86_64.whl"
      ]
    },
    {
      "cell_type": "code",
      "execution_count": null,
      "id": "95327a6b",
      "metadata": {
        "id": "95327a6b"
      },
      "outputs": [],
      "source": [
        "import torch\n",
        "from torch import nn\n",
        "from torch.utils.data import DataLoader, Dataset\n",
        "from torchvision.transforms import ToTensor, Lambda\n",
        "\n",
        "# import torch_xla\n",
        "# import torch_xla.core.xla_model as xm\n",
        "\n",
        "from sklearn.preprocessing import MaxAbsScaler, MinMaxScaler\n",
        "from sklearn.model_selection import train_test_split\n",
        "\n",
        "from dataclasses import dataclass"
      ]
    },
    {
      "cell_type": "code",
      "execution_count": null,
      "id": "f82e61bc",
      "metadata": {
        "id": "f82e61bc"
      },
      "outputs": [],
      "source": [
        "import numpy as np\n",
        "import pandas as pd\n",
        "from rolling_and_plot import *\n",
        "\n",
        "%reload_ext autoreload\n",
        "%autoreload 2"
      ]
    },
    {
      "cell_type": "code",
      "execution_count": null,
      "id": "b8682404",
      "metadata": {
        "id": "b8682404"
      },
      "outputs": [],
      "source": [
        "# Get cpu or gpu device for training.\n",
        "# device = xm.xla_device()\n",
        "device = torch.device(\"cuda\")\n",
        "print(f\"Using {device} device\")"
      ]
    },
    {
      "cell_type": "markdown",
      "id": "855a2f5a",
      "metadata": {
        "id": "855a2f5a"
      },
      "source": [
        "# TOC\n",
        "\n",
        "* [Preprocessing](#pre)\n",
        "\n",
        "* [Data Loading](#dload)\n",
        "\n",
        "* [Models](#model)"
      ]
    },
    {
      "cell_type": "markdown",
      "id": "8546a708",
      "metadata": {
        "id": "8546a708"
      },
      "source": [
        "<a id=\"pre\"></a>\n",
        "# PreProcessing "
      ]
    },
    {
      "cell_type": "markdown",
      "id": "3NXDQtonXeB2",
      "metadata": {
        "id": "3NXDQtonXeB2"
      },
      "source": [
        "## <a id=\"g\">G class</a>"
      ]
    },
    {
      "cell_type": "code",
      "execution_count": null,
      "id": "a2665c76",
      "metadata": {
        "id": "a2665c76"
      },
      "outputs": [],
      "source": [
        "@dataclass\n",
        "class G:\n",
        "    num_features = 3 # current, voltage, and soc at t-1\n",
        "    lstm_nodes = 256\n",
        "    window_size = 256\n",
        "    batch_size = 32\n",
        "    epochs = 5"
      ]
    },
    {
      "cell_type": "code",
      "execution_count": null,
      "id": "b40018fb",
      "metadata": {
        "id": "b40018fb"
      },
      "outputs": [],
      "source": [
        "# from google.colab import files\n",
        "file = pd.read_csv(\"/content/220617_soc.csv\")"
      ]
    },
    {
      "cell_type": "code",
      "execution_count": null,
      "id": "346737b3",
      "metadata": {
        "id": "346737b3"
      },
      "outputs": [],
      "source": [
        "data_plot(data = [file],\n",
        "          title=\"OCV v SOC\",\n",
        "          x = [\"test time (sec)\"],\n",
        "          y = [\"soc\"],\n",
        "          markers = \"lines\",\n",
        "          color = \"darkorchid\",\n",
        "          x_title = \"Test Time (sec)\",\n",
        "          y_title = \"SOC\"\n",
        "         )"
      ]
    },
    {
      "cell_type": "code",
      "execution_count": null,
      "id": "13977196",
      "metadata": {
        "id": "13977196"
      },
      "outputs": [],
      "source": [
        "file = normalize(file.loc[:,[\"current\",\"voltage\",\"soc\"]].iloc[::5])\n",
        "#uses sklearn.preprocessing"
      ]
    },
    {
      "cell_type": "code",
      "execution_count": null,
      "id": "c5652432",
      "metadata": {
        "id": "c5652432"
      },
      "outputs": [],
      "source": [
        "x_train, x_test, y_train, y_test = rolling_split(file, G.window_size)\n",
        "x_train.shape, x_test.shape, y_train.shape, y_test.shape\n",
        "#uses sklearn.model_selection"
      ]
    },
    {
      "cell_type": "code",
      "execution_count": null,
      "id": "82a10ddb",
      "metadata": {
        "id": "82a10ddb"
      },
      "outputs": [],
      "source": [
        "# np.array_split(train,len(train)//6) not applicable here"
      ]
    },
    {
      "cell_type": "markdown",
      "id": "3de98f4e",
      "metadata": {
        "id": "3de98f4e"
      },
      "source": [
        "# Data Loader <a id=\"dload\"></a>"
      ]
    },
    {
      "cell_type": "code",
      "execution_count": null,
      "id": "8cacc36a",
      "metadata": {
        "id": "8cacc36a"
      },
      "outputs": [],
      "source": [
        "class BatterySet(Dataset):\n",
        "    def __init__(self, x: np.ndarray, y: np.ndarray):\n",
        "    \n",
        "        self.logits = torch.from_numpy(x.squeeze()).to(device)\n",
        "        self.labels = torch.from_numpy(y).to(device)\n",
        "        \n",
        "    def __len__(self):\n",
        "        return len(self.labels)\n",
        "    \n",
        "    def __getitem__(self, idx):\n",
        "        return (self.logits[idx], self.labels[idx])"
      ]
    },
    {
      "cell_type": "code",
      "execution_count": null,
      "id": "eea0306a",
      "metadata": {
        "id": "eea0306a"
      },
      "outputs": [],
      "source": [
        "train_dataloader = BatterySet(x_train, y_train)\n",
        "test_dataloader = BatterySet(x_test, y_test)"
      ]
    },
    {
      "cell_type": "code",
      "execution_count": null,
      "id": "8bec661c",
      "metadata": {
        "id": "8bec661c"
      },
      "outputs": [],
      "source": [
        "train_dataloader = DataLoader(train_dataloader, batch_size=G.batch_size, shuffle=True, drop_last = True)\n",
        "test_dataloader = DataLoader(test_dataloader, batch_size=G.batch_size, shuffle=False, drop_last = True)"
      ]
    },
    {
      "cell_type": "code",
      "execution_count": null,
      "id": "d737277d",
      "metadata": {
        "id": "d737277d"
      },
      "outputs": [],
      "source": [
        "for X,y in train_dataloader:\n",
        "    print(f\"Shape of X [window, features]: {X.shape}\")\n",
        "    print(f\"Shape of y: {y.shape} {y.dtype}\")\n",
        "    break"
      ]
    },
    {
      "cell_type": "code",
      "execution_count": null,
      "id": "3ef3bc72",
      "metadata": {
        "id": "3ef3bc72",
        "scrolled": false
      },
      "outputs": [],
      "source": [
        "for batch, (x,y) in enumerate(test_dataloader.dataset):\n",
        "    print(batch,x,y)\n",
        "    break"
      ]
    },
    {
      "cell_type": "markdown",
      "id": "2625e83a",
      "metadata": {
        "id": "2625e83a"
      },
      "source": [
        "# Creating Models <a id=\"model\"></a>\n",
        "\n",
        "Go to [G class](#g)"
      ]
    },
    {
      "cell_type": "markdown",
      "source": [
        "According to Song et al. in the article [Combined CNN-LSTM Network for State-of-Charge Estimation of Lithium-Ion Batteries](https://ieeexplore.ieee.org/abstract/document/8754752) a single-layer LSTM is enough to map non-linearity of SOC."
      ],
      "metadata": {
        "id": "LWWTs4FkONSM"
      },
      "id": "LWWTs4FkONSM"
    },
    {
      "cell_type": "code",
      "execution_count": null,
      "id": "7cff22a7",
      "metadata": {
        "id": "7cff22a7"
      },
      "outputs": [],
      "source": [
        "# # Get cpu or gpu device for training.\n",
        "# device = torch.device(\"mps\")\n",
        "# print(f\"Using {device} device\")\n",
        "\n",
        "# Define model\n",
        "class LSTMNetwork(nn.Module):\n",
        "    \n",
        "    def __init__(self):\n",
        "        super(LSTMNetwork, self).__init__()\n",
        "\n",
        "        self.batch_norm1 = nn.BatchNorm1d(G.batch_size, momentum = 0.15, eps=1.0e-5)\n",
        "\n",
        "        self.cnn = nn.Conv1d(G.window_size, G.window_size, 3,\n",
        "                             stride = 1, padding = \"same\")\n",
        "        for name, param in self.cnn.named_parameters():\n",
        "            if 'bias' in name:\n",
        "                nn.init.uniform_(param, a=0.01, b=0.09)\n",
        "            elif 'weight' in name:\n",
        "                nn.init.kaiming_normal_(param, nonlinearity = \"relu\") # equivalent to He Normalization\n",
        "\n",
        "        self.lstm = nn.LSTM(G.num_features, G.lstm_nodes, 1, batch_first = True)\n",
        "        for name, param in self.lstm.named_parameters():\n",
        "            if 'bias' in name:\n",
        "                nn.init.uniform_(param, a=0.001, b=0.04)\n",
        "            elif 'weight_ih' in name:\n",
        "                nn.init.kaiming_normal_(param, nonlinearity = \"relu\")\n",
        "            elif 'weight_hh' in name:\n",
        "                nn.init.orthogonal_(param)\n",
        "\n",
        "        self.linear_stack = nn.Sequential(\n",
        "            nn.Linear(G.lstm_nodes, G.lstm_nodes), # shape == (G.batch_size, G.lstm_nodes)\n",
        "            nn.ReLU(),\n",
        "            nn.Dropout(0.3),\n",
        "            nn.Linear(G.lstm_nodes, G.lstm_nodes), # shape == (G.batch_size, G.lstm_nodes)\n",
        "            nn.ReLU(),\n",
        "            nn.Dropout(0.3),\n",
        "            nn.Linear(G.lstm_nodes, G.lstm_nodes), # shape == (G.batch_size, G.lstm_nodes)\n",
        "            nn.ReLU(),\n",
        "            nn.Dropout(0.3),\n",
        "            nn.Linear(G.lstm_nodes, G.lstm_nodes), # shape == (G.batch_size, G.lstm_nodes)\n",
        "            nn.ReLU(),\n",
        "            nn.Linear(G.lstm_nodes, 1), # shape == (G.batch_size, 1)\n",
        "            nn.ReLU()\n",
        "        )\n",
        "        for i in range(0, len(self.linear_stack), 2):\n",
        "            for name, param in self.linear_stack[i].named_parameters():\n",
        "                if 'bias' in name:\n",
        "                    nn.init.uniform_(param,\n",
        "                                     a=(0.1 / (i/2 + 1)),\n",
        "                                     b=(0.9/ (i/2 + 1))\n",
        "                                    )\n",
        "                elif 'weight' in name:\n",
        "                    nn.init.kaiming_normal_(param, nonlinearity = \"relu\")\n",
        "\n",
        "#     def l2_normalize(self, x, dim = 1):\n",
        "#         \"apparently weight decay in the optimize functions does l2 regularization so this is unnecessary\"\n",
        "#         return nn.functional.normalize(x, p = 2.0 , dim = dim)\n",
        "    \n",
        "    def forward(self, x): # assert(x.shape == (G.batch_size, G.window_size, G.num_features))\n",
        "        #cnn\n",
        "        x_out = self.cnn(x) # assert(x_out.shape == (G.batch_size, G.window_size, G.num_features))\n",
        "        \n",
        "        #lstm\n",
        "        x_out, (h_n_lstm, c_n)  = self.lstm(x_out) # assert(h_n_lstm.shape == (1, G.batch_size, G.lstm_nodes))\n",
        "        h_n_lstm = self.batch_norm1(h_n_lstm) # assert(h_n_lstm.shape == (1, G.batch_size, G.lstm_nodes))\n",
        "        \n",
        "        #Dense Layers\n",
        "        # send the final lstm layer's hidden state values to the Dense Layers\n",
        "        out = self.linear_stack(h_n_lstm.squeeze())\n",
        "\n",
        "        return out # (G.batch_size, 1)"
      ]
    },
    {
      "cell_type": "markdown",
      "source": [
        "Can load a pretrained model, the cell is after the optimizer cell.\n",
        "\n",
        "You need to run the cell right below this first though."
      ],
      "metadata": {
        "id": "r-73IGFpGJ4o"
      },
      "id": "r-73IGFpGJ4o"
    },
    {
      "cell_type": "code",
      "execution_count": null,
      "id": "ZbJiryd_KYPJ",
      "metadata": {
        "id": "ZbJiryd_KYPJ"
      },
      "outputs": [],
      "source": [
        "model = LSTMNetwork().to(device)\n",
        "print(model)"
      ]
    },
    {
      "cell_type": "code",
      "execution_count": null,
      "id": "0ccde997",
      "metadata": {
        "id": "0ccde997"
      },
      "outputs": [],
      "source": [
        "def train_loop(dataloader, model, loss_fn, optimizer):\n",
        "    size = len(dataloader)\n",
        "    perc_error = 0\n",
        "    for batch, (x,y) in enumerate(dataloader):\n",
        "        optimizer.zero_grad() #resets the gradient graph, a pytorch shortcoming that is required\n",
        "        \n",
        "        #forward\n",
        "        predict = model(x)\n",
        "        loss = loss_fn(predict, y).mean(0) # assert(loss.shape == (1))\n",
        "\n",
        "        #backward\n",
        "        loss.backward() #Backprop on 1-D Dense Layer output doesnt work on M1 Mac's \"mps\" device\n",
        "                        # This is apparently fixed in PyTorch 1.13.0 which has not been officially released yet\n",
        "                        # I am also too lazy to build 1.13.0 from the master repo on their github\n",
        "        optimizer.step()\n",
        "        ##### For OneCycleLR:\n",
        "        scheduler.step()\n",
        "\n",
        "        if loss.isnan():\n",
        "            print(\"loss was NaN\")\n",
        "            break\n",
        "\n",
        "        if batch % (size // 3) == 0:\n",
        "            loss, current = loss.item(), batch\n",
        "            print(f\"batch mean loss: {loss:>7f}  [{current:4d}/{size:4d}]\")\n",
        "\n",
        "        with torch.no_grad(): #used to check bias and variance by comparing with test set\n",
        "            perc_error += torch.mean(torch.abs(predict - y) / (y+ 1e-2) * 100, 0).mean(0)\n",
        "\n",
        "    ###### For ReduceLROnPlateau:\n",
        "    # scheduler.step(loss) # reduces the learning rate based on a scheduler\n",
        "\n",
        "    perc_error /= size\n",
        "    print(f\"Train Error: \\nAverage Accuracy: {100 - perc_error}%\")\n",
        "\n",
        "def test_loop(dataloader, model, loss_fn):\n",
        "    size = len(dataloader)\n",
        "    num_batches = size // G.batch_size\n",
        "    test_loss, perc_error = 0.0, 0.0\n",
        "    counter = 0\n",
        "    with torch.no_grad(): #doesnt update parameters (we are testing not training)\n",
        "        for x,y in dataloader:\n",
        "            predict = model(x).reshape(y.shape)\n",
        "            test_loss += loss_fn(predict, y).mean(0).item()\n",
        "            perc_error += torch.mean(torch.abs(predict - y) / (y+ 1e-2) * 100, 0).mean(0)\n",
        "           \n",
        "            counter += 1\n",
        "            if counter % (size // 2) == 0:\n",
        "                print(f\"{counter} / {size} tested\")\n",
        "            \n",
        "            \n",
        "    test_loss /= size\n",
        "    perc_error /= size\n",
        "    print(f\"Test Error: \\nAverage Accuracy: {100 - perc_error}%, Avg Loss: {test_loss:>8f}\\n\")\n",
        "    return perc_error, test_loss"
      ]
    },
    {
      "cell_type": "markdown",
      "id": "fucXrOBzq2Y4",
      "metadata": {
        "id": "fucXrOBzq2Y4"
      },
      "source": [
        "## Log Cosh Loss Function"
      ]
    },
    {
      "cell_type": "code",
      "execution_count": null,
      "id": "qBY8ibwil3j5",
      "metadata": {
        "id": "qBY8ibwil3j5"
      },
      "outputs": [],
      "source": [
        "def log_cosh_loss(y_pred: torch.tensor, y_ground: torch.tensor) -> torch.tensor:\n",
        "    x = y_pred - y_ground\n",
        "    return x + torch.nn.functional.softplus(-2. * x) - np.log(2.0)\n",
        "\n",
        "class LogCoshLoss(torch.nn.Module):\n",
        "    def __init__(self):\n",
        "        super().__init__()\n",
        "\n",
        "    def forward(self,\n",
        "                y_pred: torch.Tensor,\n",
        "                y_true: torch.Tensor) -> torch.Tensor:\n",
        "        return log_cosh_loss(y_pred, y_true)"
      ]
    },
    {
      "cell_type": "markdown",
      "id": "I0LawDbNo2ht",
      "metadata": {
        "id": "I0LawDbNo2ht"
      },
      "source": [
        "**Literature**\n",
        "\n",
        "*Loss*<br>\n",
        "The LogCoshLoss is the Loss function used by Hannan et al. in their article in the Journal *Nature*: [Deep learning approach towards accurate state of charge estimation for lithium-ion batteries using self-supervised transformer model](https://www.nature.com/articles/s41598-021-98915-8).\n",
        "\n",
        "However they used a Transformer Network which I am doing as well in another project implemented in Tensorflow.\n",
        "\n",
        "*Learning Rate*<br>\n",
        "The OneCycle learning rate scheduler with cosine annealing introduced by Leslie N. Smith in his paper [A disciplined approach to neural network hyper-parameters: Part 1 -- learning rate, batch size, momentum, and weight decay](https://doi.org/10.48550/arXiv.1803.09820), seems to be the best scheduler according to Fast.AI\n",
        "\n",
        "The original 3-phase apporach seems to work significantly better than the 2-phase method by Fast.AI"
      ]
    },
    {
      "cell_type": "code",
      "execution_count": null,
      "id": "0c58545e",
      "metadata": {
        "id": "0c58545e"
      },
      "outputs": [],
      "source": [
        "# loss_fn = nn.SmoothL1Loss()\n",
        "# loss_fn = nn.HuberLoss()\n",
        "# # loss_fn = nn.MSELoss()\n",
        "# loss_fn = LogCoshLoss()\n",
        "# loss_fn = nn.KLDivLoss()\n",
        "\n",
        "#I am trying no weight decay for a bit\n",
        "# optimizer = torch.optim.Adam(model.parameters(),\n",
        "#                              lr = 0.01,\n",
        "#                              weight_decay= 1e-4\n",
        "#                             )\n",
        "\n",
        "# scheduler = torch.optim.lr_scheduler.ReduceLROnPlateau(optimizer, \"min\",\n",
        "#                                                        factor = 0.6,\n",
        "#                                                        patience = 4, cooldown = 1,\n",
        "#                                                        min_lr = 7e-11,\n",
        "#                                                        verbose=True)\n",
        "\n",
        "#OneCycle scheduler needs step() to be called after every batch\n",
        "scheduler = torch.optim.lr_scheduler.OneCycleLR(optimizer,\n",
        "                                                0.0008, #max_lr\n",
        "                                                epochs = G.epochs,\n",
        "                                                steps_per_epoch = len(train_dataloader),\n",
        "                                                anneal_strategy = \"cos\", #cosine annealing\n",
        "                                                div_factor = 35,\n",
        "                                                three_phase = True,\n",
        "                                                verbose = False\n",
        "                                                )"
      ]
    },
    {
      "cell_type": "code",
      "execution_count": null,
      "id": "ryPjaJi9IQcX",
      "metadata": {
        "id": "ryPjaJi9IQcX"
      },
      "outputs": [],
      "source": [
        "model.load_state_dict(torch.load(\"drive/MyDrive/pytorch_colab/cnn_model_state_dict.pth\", map_location = device))\n",
        "# optimizer.load_state_dict(torch.load(\"drive/MyDrive/pytorch_colab/cnn_optimizer_state_dict.pth\", map_location = device))\n",
        "model.train()\n",
        "# model.eval()"
      ]
    },
    {
      "cell_type": "markdown",
      "id": "MR-ZR2DSq8_B",
      "metadata": {
        "id": "MR-ZR2DSq8_B"
      },
      "source": [
        "# Training"
      ]
    },
    {
      "cell_type": "code",
      "execution_count": null,
      "id": "de1886bf",
      "metadata": {
        "id": "de1886bf"
      },
      "outputs": [],
      "source": [
        "for epoch in range(1, G.epochs + 1):\n",
        "    print(f\"Epoch {epoch}/{G.epochs}\\n----------------------------------------\")\n",
        "    train_loop(train_dataloader, model, loss_fn, optimizer)\n",
        "    test_loop(test_dataloader, model, loss_fn)\n",
        "\n",
        "    if (epoch != 0) and (epoch % 50 == 0):\n",
        "        torch.save(model.state_dict(), \"drive/MyDrive/pytorch_colab/two_phase_model_state_dict.pth\")\n",
        "        torch.save(optimizer.state_dict(), \"drive/MyDrive/pytorch_colab/two_phase_optimizer_state_dict.pth\")\n",
        "        print(\"Saved the model parameters\\n\")\n",
        "\n",
        "print(\"Completed\")"
      ]
    },
    {
      "cell_type": "code",
      "execution_count": null,
      "id": "hZsMkW3QyOJU",
      "metadata": {
        "id": "hZsMkW3QyOJU"
      },
      "outputs": [],
      "source": [
        "torch.save(model.state_dict(), \"drive/MyDrive/pytorch_colab/three_phase_model_state_dict.pth\")\n",
        "torch.save(optimizer.state_dict(), \"drive/MyDrive/pytorch_colab/three_phase_optimizer_state_dict.pth\")"
      ]
    },
    {
      "cell_type": "code",
      "execution_count": null,
      "id": "mKz0AtfnffHc",
      "metadata": {
        "id": "mKz0AtfnffHc"
      },
      "outputs": [],
      "source": [
        "pred = []\n",
        "with torch.no_grad():\n",
        "    for x,y in test_dataloader:\n",
        "        pred.append(model(x))\n",
        "\n",
        "aggregate = []\n",
        "for i in pred: #this way is faster than list comprehension below\n",
        "    aggregate.extend(i)\n",
        "print(max(aggregate), min(aggregate))\n",
        "\n",
        "\n",
        "# aggregate = [unit for batch in pred for unit in batch]\n",
        "# print(max(aggregate), min(aggregate))\n"
      ]
    },
    {
      "cell_type": "code",
      "execution_count": null,
      "id": "Sd4gAY9vKb9e",
      "metadata": {
        "id": "Sd4gAY9vKb9e"
      },
      "outputs": [],
      "source": [
        "np_aggregate = np.array([p.detach().cpu().numpy() for p in aggregate])\n",
        "np_labels = torch.clone(test_dataloader.dataset.labels).detach().cpu().numpy()[:len(np_aggregate)]\n",
        "\n",
        "visualize = pd.DataFrame(data={\"pred\": np_aggregate.squeeze(),\n",
        "                               \"labels\": np_labels.squeeze()})\n",
        "\n",
        "visualize.sort_values(\"labels\", inplace=True)\n",
        "visualize.reset_index(drop=True)\n",
        "\n",
        "visualize[\"point\"] = list(range(1, len(visualize)+1))"
      ]
    },
    {
      "cell_type": "code",
      "source": [
        "visualize"
      ],
      "metadata": {
        "id": "G8SW8loCN3s4"
      },
      "id": "G8SW8loCN3s4",
      "execution_count": null,
      "outputs": []
    },
    {
      "cell_type": "code",
      "execution_count": null,
      "id": "4888fcbb",
      "metadata": {
        "id": "4888fcbb"
      },
      "outputs": [],
      "source": [
        "data_plot(data = visualize,\n",
        "          x = [[\"point\",\"point\"]],\n",
        "          y = [[\"pred\",\"labels\"]],\n",
        "          x_title = \"Data Point\",\n",
        "          y_title = \"SOC\",\n",
        "          title = \"Predicted vs Actual SOC\",\n",
        "          name = [[\"predictions\",\"labels\"]],\n",
        "          mode = [[\"markers\",\"markers\"]],\n",
        "          color = [[\"red\",\"yellow\"]]\n",
        "         )"
      ]
    }
  ],
  "metadata": {
    "accelerator": "GPU",
    "colab": {
      "name": "LSTM-Model.ipynb",
      "provenance": []
    },
    "gpuClass": "standard",
    "kernelspec": {
      "display_name": "Python 3 (ipykernel)",
      "language": "python",
      "name": "python3"
    },
    "language_info": {
      "codemirror_mode": {
        "name": "ipython",
        "version": 3
      },
      "file_extension": ".py",
      "mimetype": "text/x-python",
      "name": "python",
      "nbconvert_exporter": "python",
      "pygments_lexer": "ipython3",
      "version": "3.10.5"
    }
  },
  "nbformat": 4,
  "nbformat_minor": 5
}