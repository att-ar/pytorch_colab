{
  "cells": [
    {
      "cell_type": "markdown",
      "id": "FeEItPoKr4an",
      "metadata": {
        "id": "FeEItPoKr4an"
      },
      "source": [
        "# Testing Branch"
      ]
    },
    {
      "cell_type": "code",
      "execution_count": null,
      "id": "c9tSoZ1FlqfT",
      "metadata": {
        "id": "c9tSoZ1FlqfT"
      },
      "outputs": [],
      "source": [
        "from google.colab import drive\n",
        "drive.mount('/content/drive')"
      ]
    },
    {
      "cell_type": "code",
      "execution_count": null,
      "id": "kO6jZ26ahKAo",
      "metadata": {
        "id": "kO6jZ26ahKAo"
      },
      "outputs": [],
      "source": [
        "!cp /content/drive/MyDrive/pytorch_colab/rolling_and_plot.py .\n",
        "!cp /content/drive/MyDrive/pytorch_colab/sim_data.csv ."
      ]
    },
    {
      "cell_type": "code",
      "execution_count": null,
      "id": "f82e61bc",
      "metadata": {
        "id": "f82e61bc"
      },
      "outputs": [],
      "source": [
        "import numpy as np\n",
        "import pandas as pd\n",
        "# !pip install jupyterplot\n",
        "from jupyterplot import ProgressPlot as PP\n",
        "\n",
        "from rolling_and_plot import data_plot, normalize, rolling_split, validate\n",
        "from global_dataclass import G\n",
        "from battery_lstm import *\n",
        "\n",
        "\n",
        "%reload_ext autoreload\n",
        "%autoreload 2"
      ]
    },
    {
      "cell_type": "code",
      "execution_count": null,
      "id": "b8682404",
      "metadata": {
        "id": "b8682404"
      },
      "outputs": [],
      "source": [
        "print(torch.__version__)\n",
        "print(f\"Using {G.device} device\")"
      ]
    },
    {
      "attachments": {},
      "cell_type": "markdown",
      "id": "855a2f5a",
      "metadata": {
        "id": "855a2f5a"
      },
      "source": [
        "# TOC\n",
        "\n",
        "* [Preprocessing](#pre)\n",
        "\n",
        "* [Data Loading](#dload)\n",
        "\n",
        "* [Model](#model)\n",
        "\n",
        "* [Training](#train)\n",
        "\n",
        "* [Validate](#val)"
      ]
    },
    {
      "cell_type": "markdown",
      "id": "8546a708",
      "metadata": {
        "id": "8546a708"
      },
      "source": [
        "<a id=\"pre\"></a>\n",
        "# PreProcessing "
      ]
    },
    {
      "cell_type": "code",
      "execution_count": null,
      "id": "b40018fb",
      "metadata": {
        "id": "b40018fb"
      },
      "outputs": [],
      "source": [
        "file = pd.read_csv(\"/Users/attar/Library/CloudStorage/OneDrive-UniversityofWaterloo/Simulated_Data/sim_data.csv\")\n",
        "# file = pd.read_csv(\"/content/sim_data.csv\")\n",
        "file[\"soc\"] *= 100 #if sim_data.csv only"
      ]
    },
    {
      "cell_type": "code",
      "execution_count": null,
      "id": "346737b3",
      "metadata": {
        "id": "346737b3"
      },
      "outputs": [],
      "source": [
        "data_plot(data = [file],\n",
        "          title=\"OCV v SOC\",\n",
        "          x = [\"test time (sec)\"],\n",
        "          y = [\"soc\"],\n",
        "          markers = \"lines\",\n",
        "          color = \"darkorchid\",\n",
        "          x_title = \"Test Time (sec)\",\n",
        "          y_title = \"SOC\"\n",
        "         )"
      ]
    },
    {
      "cell_type": "code",
      "execution_count": null,
      "id": "13977196",
      "metadata": {
        "id": "13977196"
      },
      "outputs": [],
      "source": [
        "file = normalize(file.loc[:,[\"current\",\"voltage\",\"soc\"]].iloc[::G.slicing], G.capacity)"
      ]
    },
    {
      "cell_type": "code",
      "execution_count": null,
      "id": "c5652432",
      "metadata": {
        "id": "c5652432"
      },
      "outputs": [],
      "source": [
        "x_train, x_test, y_train, y_test = rolling_split(file, G.window_size)\n",
        "x_train.shape, x_test.shape, y_train.shape, y_test.shape"
      ]
    },
    {
      "cell_type": "markdown",
      "id": "3de98f4e",
      "metadata": {
        "id": "3de98f4e"
      },
      "source": [
        "# Data Loader <a id=\"dload\"></a>"
      ]
    },
    {
      "cell_type": "code",
      "execution_count": null,
      "id": "eea0306a",
      "metadata": {
        "id": "eea0306a"
      },
      "outputs": [],
      "source": [
        "train_dataloader = BatterySet(x_train, y_train)\n",
        "test_dataloader = BatterySet(x_test, y_test)\n",
        "\n",
        "train_dataloader = DataLoader(train_dataloader, batch_size=G.batch_size, shuffle=False, drop_last = True)\n",
        "test_dataloader = DataLoader(test_dataloader, batch_size=G.batch_size, shuffle=False, drop_last = True)"
      ]
    },
    {
      "cell_type": "code",
      "execution_count": null,
      "id": "d737277d",
      "metadata": {
        "id": "d737277d"
      },
      "outputs": [],
      "source": [
        "for X,y in train_dataloader:\n",
        "    print(f\"Shape of X [window, features]: {X.shape}\")\n",
        "    print(f\"Shape of y: {y.shape} {y.dtype}\")\n",
        "    break"
      ]
    },
    {
      "cell_type": "code",
      "execution_count": null,
      "id": "3ef3bc72",
      "metadata": {
        "id": "3ef3bc72",
        "scrolled": false
      },
      "outputs": [],
      "source": [
        "# for batch, (x,y) in enumerate(test_dataloader.dataset):\n",
        "#     print(batch,x,y)\n",
        "#     break"
      ]
    },
    {
      "attachments": {},
      "cell_type": "markdown",
      "id": "8da67ad5",
      "metadata": {},
      "source": [
        "# Model <a id = \"model\"></a>"
      ]
    },
    {
      "cell_type": "code",
      "execution_count": null,
      "id": "ZbJiryd_KYPJ",
      "metadata": {
        "id": "ZbJiryd_KYPJ"
      },
      "outputs": [],
      "source": [
        "model = LSTMNetwork().to(G.device)\n",
        "print(model)\n",
        "# compiled_model = torch.compile(model)"
      ]
    },
    {
      "attachments": {},
      "cell_type": "markdown",
      "id": "d654020d",
      "metadata": {},
      "source": [
        "`torch.compile` introduced in the nightly release (makes the model much more efficient). Can use additional arguments to either reduce overhead (and increase memory usage) or make the model as efficient as possible (takes a lot longer to compile)."
      ]
    },
    {
      "attachments": {},
      "cell_type": "markdown",
      "id": "I0LawDbNo2ht",
      "metadata": {
        "id": "I0LawDbNo2ht"
      },
      "source": [
        "**Literature**\n",
        "\n",
        "*Loss*<br>\n",
        "The LogCoshLoss is the Loss function used by Hannan et al. in their article in the Journal *Nature*: [Deep learning approach towards accurate state of charge estimation for lithium-ion batteries using self-supervised transformer model](https://www.nature.com/articles/s41598-021-98915-8).\n",
        "\n",
        "*Learning Rate*<br>\n",
        "The OneCycle learning rate scheduler with cosine annealing introduced by Leslie N. Smith in his paper [A disciplined approach to neural network hyper-parameters: Part 1 -- learning rate, batch size, momentum, and weight decay](https://doi.org/10.48550/arXiv.1803.09820), seems to be the best scheduler according to Fast.AI\n",
        "\n",
        "Cosine annealing with warm restarts proposed by Loshchilov et al. in [SGDR: Stochastic Gradient Descent with Warm Restarts](https://doi.org/10.48550/arXiv.1608.03983)"
      ]
    },
    {
      "cell_type": "code",
      "execution_count": null,
      "id": "7df2b978",
      "metadata": {},
      "outputs": [],
      "source": [
        "class LogCoshLoss(torch.nn.Module):\n",
        "    def __init__(self):\n",
        "        super().__init__()\n",
        "\n",
        "    def forward(self,\n",
        "                y_pred: torch.Tensor,\n",
        "                y_true: torch.Tensor) -> torch.Tensor:\n",
        "        x = torch.sub(y_true, y_pred)\n",
        "        return torch.sub(\n",
        "                        torch.add(x, torch.nn.functional.softplus(torch.mul(x, -2.0))),\n",
        "                        np.log(2.0)\n",
        "                        )"
      ]
    },
    {
      "cell_type": "code",
      "execution_count": null,
      "id": "0c58545e",
      "metadata": {
        "id": "0c58545e"
      },
      "outputs": [],
      "source": [
        "loss_fn = LogCoshLoss()\n",
        "\n",
        "optimizer = torch.optim.Adam(model.parameters(),\n",
        "                             lr = G.learning_rate,\n",
        "                             weight_decay= G.weight_decay\n",
        "                            )\n",
        "\n",
        "#OneCycle scheduler needs step() to be called after every batch\n",
        "scheduler = torch.optim.lr_scheduler.OneCycleLR(optimizer,\n",
        "                                                G.learning_rate, #max_lr\n",
        "                                                epochs = G.epochs,\n",
        "                                                steps_per_epoch = len(train_dataloader),\n",
        "                                                anneal_strategy = \"cos\", #cosine annealing\n",
        "                                                div_factor = 35,\n",
        "                                                three_phase = True,\n",
        "                                                verbose = False\n",
        "                                                )\n",
        "\n",
        "#CosineAnnealing with WarmRestarts, step() can be called after every batch but it is dependent of epoch:\n",
        "# scheduler = torch.optim.lr_scheduler.CosineAnnealingWarmRestarts(optimizer,\n",
        "#                                                                  T_0 = 1,\n",
        "#                                                                  T_mult = 4,\n",
        "#                                                                  eta_min = 7e-11,\n",
        "#                                                                  verbose = False)"
      ]
    },
    {
      "cell_type": "code",
      "execution_count": null,
      "id": "ryPjaJi9IQcX",
      "metadata": {
        "id": "ryPjaJi9IQcX"
      },
      "outputs": [],
      "source": [
        "model.load_state_dict(\n",
        "    torch.load(\"drive/MyDrive/pytorch_colab/sim_model_state_dict.pth\",\n",
        "    map_location = device)\n",
        "    )\n",
        "model.train()"
      ]
    },
    {
      "cell_type": "markdown",
      "id": "MR-ZR2DSq8_B",
      "metadata": {
        "id": "MR-ZR2DSq8_B"
      },
      "source": [
        "# Training <a id=\"train\"></a>"
      ]
    },
    {
      "cell_type": "code",
      "execution_count": null,
      "id": "de1886bf",
      "metadata": {
        "id": "de1886bf"
      },
      "outputs": [],
      "source": [
        "pp = PP(plot_names = [\"Mean Log Loss\", \"% Accuracy\"],\n",
        "        line_names = [\"Train Loop\", \"Test Loop\"],\n",
        "        x_label = \"epochs\"\n",
        "       )\n",
        "\n",
        "for epoch in range(1, G.epochs + 1):\n",
        "    print(f\"Epoch {epoch}/{G.epochs}\\n----------------------------------------\")\n",
        "    train_loss, train_acc = train_loop(train_dataloader, model, loss_fn, optimizer, scheduler, epoch)\n",
        "    test_loss, test_acc = test_loop(test_dataloader, model, loss_fn)\n",
        "    \n",
        "    pp.update([[train_loss, test_loss], [train_acc, test_acc]])\n",
        "\n",
        "    # if (epoch != 0) and (epoch % 50 == 0):\n",
        "    #     torch.save(model.state_dict(), \"drive/MyDrive/pytorch_colab/model.pth\")\n",
        "    #     print(\"Saved the model parameters\\n\")\n",
        "\n",
        "print(\"Completed\")"
      ]
    },
    {
      "cell_type": "code",
      "execution_count": null,
      "id": "hZsMkW3QyOJU",
      "metadata": {
        "id": "hZsMkW3QyOJU"
      },
      "outputs": [],
      "source": [
        "torch.save(model.state_dict(), \"drive/MyDrive/pytorch_colab/sim_model_state_dict.pth\")"
      ]
    },
    {
      "cell_type": "markdown",
      "id": "AQWJiqiCo1XA",
      "metadata": {
        "id": "AQWJiqiCo1XA"
      },
      "source": [
        "# Validation <a id=\"val\"></a>"
      ]
    },
    {
      "cell_type": "markdown",
      "id": "elvx2vg1pGY7",
      "metadata": {
        "id": "elvx2vg1pGY7"
      },
      "source": [
        "**Dev Set**"
      ]
    },
    {
      "cell_type": "code",
      "execution_count": null,
      "id": "ILWoMlHdvRlX",
      "metadata": {
        "id": "ILWoMlHdvRlX"
      },
      "outputs": [],
      "source": [
        "visualize_dev = validate(model, test_dataloader, dev = True)"
      ]
    },
    {
      "cell_type": "markdown",
      "id": "KQpORafIpKPL",
      "metadata": {
        "id": "KQpORafIpKPL"
      },
      "source": [
        "**Entire Dataset**"
      ]
    },
    {
      "cell_type": "code",
      "execution_count": null,
      "id": "gKy0e9uXpMX9",
      "metadata": {
        "id": "gKy0e9uXpMX9"
      },
      "outputs": [],
      "source": [
        "x_set, y_set = rolling_split(file, G.window_size, train = False)\n",
        "\n",
        "set_dataloader = BatterySet(x_set, y_set)\n",
        "set_dataloader = DataLoader(set_dataloader, batch_size=G.batch_size, shuffle=False, drop_last = True)\n",
        "\n",
        "visualize = validate(model, set_dataloader, dev = False)"
      ]
    }
  ],
  "metadata": {
    "accelerator": "GPU",
    "colab": {
      "name": "LSTM-Model.ipynb",
      "provenance": []
    },
    "gpuClass": "standard",
    "kernelspec": {
      "display_name": "tflow",
      "language": "python",
      "name": "python3"
    },
    "language_info": {
      "codemirror_mode": {
        "name": "ipython",
        "version": 3
      },
      "file_extension": ".py",
      "mimetype": "text/x-python",
      "name": "python",
      "nbconvert_exporter": "python",
      "pygments_lexer": "ipython3",
      "version": "3.10.5"
    },
    "vscode": {
      "interpreter": {
        "hash": "4a0aa943aa44ec2cea40b2a3e959790e4ce20a8627960ed37a1774af4e3759e0"
      }
    }
  },
  "nbformat": 4,
  "nbformat_minor": 5
}
