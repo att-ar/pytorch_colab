{
 "cells": [
  {
   "cell_type": "code",
   "execution_count": null,
   "id": "fc275738",
   "metadata": {},
   "outputs": [],
   "source": [
    "import pandas as pd\n",
    "import numpy as np\n",
    "from battery_plot import *"
   ]
  },
  {
   "cell_type": "code",
   "execution_count": null,
   "id": "0550e23c",
   "metadata": {},
   "outputs": [],
   "source": [
    "data = \"JMFM_17_SOC_OCV_94plus5_Test_220624.txt\""
   ]
  },
  {
   "cell_type": "code",
   "execution_count": null,
   "id": "a139bb25",
   "metadata": {},
   "outputs": [],
   "source": [
    "df = pd.read_csv(data, skiprows=[0,1,2],sep=\"\\t\")"
   ]
  },
  {
   "cell_type": "code",
   "execution_count": null,
   "id": "9c5c84c4",
   "metadata": {},
   "outputs": [],
   "source": [
    "def get_sec(time_str):\n",
    "    d, m, s = time_str.split(\":\")\n",
    "    d, h = d.split(\"d\")\n",
    "    d = int(d)\n",
    "    h = int(h)\n",
    "    m = int(m)\n",
    "    s = int(s)\n",
    "    return d*86400 + h*3600 + m*60 +s\n",
    "\n",
    "def nf_soc_compute(data, capacity, to_csv_pts = False, to_csv_curve = False):\n",
    "    '''\n",
    "    .txt file[, bool, bool] -> pd.DataFrame, pd.DataFrame[, .csv file, .csv file] \n",
    "    Precondition, data is a .txt file from the Maccor\n",
    "    \n",
    "    Parameters:\n",
    "    `capacity` float\n",
    "        the capacity of the LFP cell\n",
    "    `to_csv_pts` bool\n",
    "        to send the extracted points to a csv file\n",
    "    `to_csv_curve` bool\n",
    "        to send the estimated points to a csv file\n",
    "    '''\n",
    "    data = pd.read_csv(data, skiprows=[0,1,2], sep=\"\\t\")\n",
    "    \n",
    "    first_idx = data[data[\"MD\"] == \"D\"].iloc[0].name\n",
    "    \n",
    "    df = data.loc[first_idx-1:,[\"Test Time\", \"Current\", \"Voltage\", \"MD\"]].copy()\n",
    "    \n",
    "    df.columns = [col.lower() for col in df.columns]\n",
    "\n",
    "    df.loc[df[\"md\"] == \"D\",\"current\"] *= -1\n",
    "\n",
    "    delta_cap = df[\"current\"] / 3600\n",
    "\n",
    "    df[\"soc\"] = list((capacity + delta_cap.cumsum()) / capacity * 100)\n",
    "    df.loc[:,\"test time (sec)\"] = [get_sec(i) for i in df[\"test time\"]]\n",
    "    \n",
    "#     if to_csv_pts:\n",
    "#         name = input(\"Name of output file for SOC-OCV points: \")\n",
    "#         data.to_csv(name)\n",
    "#         print( f\"\\n{name} was created.\\n\" )\n",
    "#     if to_csv_curve:\n",
    "#         name = input(\"Name of output file for SOC-OCV curve: \")\n",
    "#         curve.to_csv(name)\n",
    "#         print( f\"\\n{name} was created.\\n\" )\n",
    "\n",
    "    mask = df[\"test time (sec)\"].diff()\n",
    "    mask.iloc[0],mask.iloc[-1] = 1.0,1.0\n",
    "    df[\"delta t\"] = mask\n",
    "    \n",
    "    return df[[\"test time (sec)\",\"delta t\",\"current\",\"voltage\",\"soc\"]]"
   ]
  },
  {
   "cell_type": "code",
   "execution_count": null,
   "id": "397bcdfe",
   "metadata": {},
   "outputs": [],
   "source": [
    "df = nf_soc_compute(data, 18.208)"
   ]
  },
  {
   "cell_type": "code",
   "execution_count": null,
   "id": "2c78daf5",
   "metadata": {},
   "outputs": [],
   "source": [
    "df.to_csv(\"JMFM_17_SOC_OCV_94plus5_Test_220624_soc.csv\", index=False)"
   ]
  },
  {
   "cell_type": "code",
   "execution_count": null,
   "id": "6ca6f5c1",
   "metadata": {},
   "outputs": [],
   "source": [
    "data_plot(data = [df],\n",
    "          x = [\"test time (sec)\"],\n",
    "          y = [ \"soc\" ],\n",
    "          title = \"JMFM-17 OCV vs. SOC Curve\",\n",
    "          x_title = \"SOC (%)\",\n",
    "          y_title = \"OCV (V)\",\n",
    "          mode = \"lines\",\n",
    "          color = \"darkorchid\",\n",
    "          name = None,\n",
    "          size = None\n",
    "         )"
   ]
  },
  {
   "cell_type": "code",
   "execution_count": null,
   "id": "e845e0f5",
   "metadata": {},
   "outputs": [],
   "source": []
  }
 ],
 "metadata": {
  "kernelspec": {
   "display_name": "Python 3 (ipykernel)",
   "language": "python",
   "name": "python3"
  },
  "language_info": {
   "codemirror_mode": {
    "name": "ipython",
    "version": 3
   },
   "file_extension": ".py",
   "mimetype": "text/x-python",
   "name": "python",
   "nbconvert_exporter": "python",
   "pygments_lexer": "ipython3",
   "version": "3.10.5"
  }
 },
 "nbformat": 4,
 "nbformat_minor": 5
}
